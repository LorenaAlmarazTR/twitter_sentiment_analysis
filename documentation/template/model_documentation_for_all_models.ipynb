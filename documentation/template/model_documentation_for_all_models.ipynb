{
 "cells": [
  {
   "attachments": {},
   "cell_type": "markdown",
   "id": "633494b6",
   "metadata": {
    "deletable": false,
    "editable": false
   },
   "source": [
    "<div style=\"text-align: right; font-style:italic\"> Thomson Reuters; Internal Use; v1.0; Document Reference Number: MGPR003 </div>\n"
   ]
  },
  {
   "attachments": {},
   "cell_type": "markdown",
   "id": "4ab6b5e5",
   "metadata": {
    "deletable": false,
    "editable": false
   },
   "source": [
    "# Model Documentation for all Models"
   ]
  },
  {
   "cell_type": "code",
   "execution_count": null,
   "id": "c6abf1cd",
   "metadata": {},
   "outputs": [],
   "source": []
  },
  {
   "attachments": {},
   "cell_type": "markdown",
   "id": "2ba5bc6a",
   "metadata": {
    "deletable": false,
    "editable": false
   },
   "source": [
    "| Section | Responsibility | Timing (earliest) |\n",
    "| --- | --- | --- |\n",
    "| [1. Model Identification Information](#model_identif) | Model Owner or Model Developer | Problem Statement |\n",
    "| [2. Business Purpose and Intended Use](#business_purp) | Model Owner primarily, with input from Model Developer| Problem Statement |\n",
    "| [3. Third Party Model Details](#third_party) | Model Owner and/or Model Developer | Model Development |\n",
    "| [4. Model Inputs](#model_input) | Model Developer | Data Acquisition and Preprocessing |\n",
    "| [5. Model Design and Conceptual Soundness](#model_design) | Model Developer | Model Development |\n",
    "| [6. Model Development](#model_train) | Model Developer | Model Development |\n",
    "| [7. Model Deployment](#model_deploy) | Model Developer primarily, with input from ML Engineer | Model Development (after evaluation) |\n",
    "| [8. Model Monitoring Plan](#model_monitor_plan) | Model Developer and Model Owner | Model Development (after evaluation) |\n",
    "| [9. Appendix](#appendix) | n/a | n/a |\n"
   ]
  },
  {
   "attachments": {},
   "cell_type": "markdown",
   "id": "f1619f83",
   "metadata": {
    "deletable": false,
    "editable": false
   },
   "source": [
    "## 1. Model Identification Information <a class=\"anchor\" id=\"model_identif\"></a>"
   ]
  },
  {
   "attachments": {},
   "cell_type": "markdown",
   "id": "9b5ef9cd",
   "metadata": {
    "deletable": false,
    "editable": false
   },
   "source": [
    "| Responsibility | Timing (earliest) | Relevant Standard |\n",
    "| --- | --- | --- |\n",
    "| Model Owner or Model Developer | Problem Statement | Model Identification Standard (available at [this](https://trten.sharepoint.com/sites/intr-data-model-governance/SitePages/Data-%26-Model-Governance-(DMG)-Policies-%26-Standards.aspx) Atrium site) |"
   ]
  },
  {
   "attachments": {},
   "cell_type": "markdown",
   "id": "4c6bd10f",
   "metadata": {
    "deletable": false,
    "editable": false
   },
   "source": [
    "<div style=\"background-color:#EBEBEB\">\n",
    "    \n",
    "<span style='background:orange'>**Model Name** </span>   \n",
    "Please refer to the *Model Name* field on the [Model Registry](https://contentconsole.thomsonreuters.com/machine-learning/registry/models) (used as primary key).  \n",
    "<div style=\"text-align: right; font-style:italic\"> (tag: model_name) </div>"
   ]
  },
  {
   "attachments": {},
   "cell_type": "markdown",
   "id": "model_id",
   "metadata": {
    "tags": [
     "model_name"
    ]
   },
   "source": [
    "twitter_sentiment_analysis"
   ]
  },
  {
   "attachments": {},
   "cell_type": "markdown",
   "id": "198a3356",
   "metadata": {
    "deletable": false,
    "editable": false
   },
   "source": [
    "<div style=\"background-color:#EBEBEB\">\n",
    "\n",
    "<span style='background:orange'>**Version Tag** </span>   \n",
    "Please refer to the *Version Tag* field on the [Model Registry](https://contentconsole.thomsonreuters.com/machine-learning/registry/models) (used as primary key).\n",
    "<div style=\"text-align: right; font-style:italic\"> (tag: version_tag) </div>"
   ]
  },
  {
   "attachments": {},
   "cell_type": "markdown",
   "id": "version_id",
   "metadata": {
    "tags": [
     "version_tag"
    ]
   },
   "source": [
    "0.0.1"
   ]
  },
  {
   "attachments": {},
   "cell_type": "markdown",
   "id": "1cee6886",
   "metadata": {
    "deletable": false,
    "editable": false
   },
   "source": [
    "<div style=\"background-color:#EBEBEB\">\n",
    "\n",
    "<span style='background:orange'>**Author(s)** </span>   \n",
    "TR email addresses for authors. Please separate via ';'.\n",
    "<div style=\"text-align: right; font-style:italic\"> (tag: authors) </div>"
   ]
  },
  {
   "attachments": {},
   "cell_type": "markdown",
   "id": "authors",
   "metadata": {
    "tags": [
     "authors"
    ]
   },
   "source": [
    "lorena.almaraz@thomsonreuters.com"
   ]
  },
  {
   "attachments": {},
   "cell_type": "markdown",
   "id": "d9efde26",
   "metadata": {
    "deletable": false,
    "editable": false
   },
   "source": [
    "***"
   ]
  },
  {
   "attachments": {},
   "cell_type": "markdown",
   "id": "7c3061b3",
   "metadata": {
    "deletable": false,
    "editable": false
   },
   "source": [
    "## 2. Business Purpose and Intended Use <a class=\"anchor\" id=\"business_purp\"></a>"
   ]
  },
  {
   "attachments": {},
   "cell_type": "markdown",
   "id": "1d5a72e7",
   "metadata": {
    "deletable": false,
    "editable": false
   },
   "source": [
    "| Responsibility | Timing (earliest) | Relevant Standard(s) |\n",
    "| --- | --- | --- |\n",
    "| Model Owner primarily, with input from Model Developer  | Problem Statement | Model Design and Development Standard; Human Oversight Standard (available at [this](https://trten.sharepoint.com/sites/intr-data-model-governance/SitePages/Data-%26-Model-Governance-(DMG)-Policies-%26-Standards.aspx) Atrium site) |\n",
    "\n",
    " \n",
    "Please update concise, simple, non-technical, high-level overview of the model. The intended audience includes individuals/teams not well versed in Data Science and Model Development, as well as Senior Executives at TR.  "
   ]
  },
  {
   "attachments": {},
   "cell_type": "markdown",
   "id": "3cb86e41",
   "metadata": {
    "deletable": false,
    "editable": false
   },
   "source": [
    "<div style=\"background-color:#EBEBEB\">\n",
    "\n",
    "<span style='background:orange'> **Business Case, Modelling Approach, and Solution Summary**   </span>  \n",
    "Please provide a summary of the business problem being addressed and how the model will address this intended purpose. This should include an overview of the model’s functionality within the context of the TR product or internal TR function. If applicable, comment on the interaction with other models (e.g., is the input for this model derived from outputs of other model(s), or is the model output used as input by other models?).\n",
    "<div style=\"text-align: right; font-style:italic\"> (tag: business_case) </div>\n"
   ]
  },
  {
   "attachments": {},
   "cell_type": "markdown",
   "id": "f52c945a",
   "metadata": {
    "tags": [
     "business_case"
    ]
   },
   "source": [
    "The model looks at customer interactions on Twitter to find potential issues and provide better support. We use a pre-trained model to identify positive, neutral, and negative language from social media, prioritizing negative language as it might highlight customer problems. We use specifically Twitter data where TR products and services are mentioned. The model does not interact with other models."
   ]
  },
  {
   "attachments": {},
   "cell_type": "markdown",
   "id": "8764866b",
   "metadata": {
    "deletable": false,
    "editable": false
   },
   "source": [
    "<div style=\"background-color:#EBEBEB\">\n",
    "\n",
    "<span style='background:orange'> **High Level Summary of Assumptions, Limitations and Risks** </span>  \n",
    "Summarize key assumptions, limitations, risks (incl. overall Model Risk Rating - Low/Medium/High - as per [Model Risk Assessment](https://trten.sharepoint.com/sites/intr-data-model-governance/SiteAssets/Forms/AllItems.aspx?id=%2Fsites%2Fintr%2Ddata%2Dmodel%2Dgovernance%2FSiteAssets%2FSitePages%2Fnews%2DModel%2DGovernance%2DTraining%2DProgram%2DOverview%2FCheatSheet%2D%2D%2DModel%2DRisk%2Epdf&parent=%2Fsites%2Fintr%2Ddata%2Dmodel%2Dgovernance%2FSiteAssets%2FSitePages%2Fnews%2DModel%2DGovernance%2DTraining%2DProgram%2DOverview)), and any aspects known to be out-of-scope for the model. \n",
    "Document any model limitations relevant for the down-stream use of the model output by end-users.\n",
    "<div style=\"text-align: right; font-style:italic\"> (tag: assumptions_risks) </div>"
   ]
  },
  {
   "attachments": {},
   "cell_type": "markdown",
   "id": "7fe98a9e",
   "metadata": {
    "tags": [
     "assumptions_risks"
    ]
   },
   "source": [
    "Overall risk for the model is medium, per model risk assessment. The model identifies a range of languages, however, languages other than English are out of scope for analysis since trained specialists reviewing model outputs are English-only. The model's outputs might be misleading without context, so any decisions made from the model's outputs require a human specialist to review. Refer to model risk assessment for additional detail."
   ]
  },
  {
   "attachments": {},
   "cell_type": "markdown",
   "id": "5677630e",
   "metadata": {
    "deletable": false,
    "editable": false
   },
   "source": [
    "<div style=\"background-color:#EBEBEB\">\n",
    "\n",
    "<span style='background:orange'> **Human Oversight Considerations** </span>  \n",
    "\n",
    "Include, but need not be limited to, the following:\n",
    "\n",
    "*   Who are the end-users of your model or the system it is embedded in? Which of the following three categories do they fall under? *Untrained individuals*, who receive no training on using the model's output; *Trained individuals*, who receive training on using the model's output; Modeling experts, who possess technical understanding of the model. \n",
    "*   What is the approach to Human Oversight for this model? (For example, Human-in-the-loop, Human-in-command or Human-out-of-the-loop). \n",
    "*   Document the measures you have taken to avoid conflict of interest of individuals with human oversight responsibilities.\n",
    "\n",
    "*Definitions:* \n",
    "-\t**Human Oversight** refers to the condition of allowing users of data and models to maintain appropriate levels of control depending on the risks involved and potential impact.\n",
    "-\t**End-users:** an end-user is a person who ultimately uses or is intended to use a product or system. End-users are individuals who might not possess the full technical understanding of the model.\n",
    "\n",
    "<div style=\"text-align: right; font-style:italic\"> (tag: human_oversight_purpose) </div>"
   ]
  },
  {
   "attachments": {},
   "cell_type": "markdown",
   "id": "7d0df1b5",
   "metadata": {
    "tags": [
     "human_oversight_purpose"
    ]
   },
   "source": [
    "End users are trained customer success specialists who use the model's outputs to prioritize resolution of common customer issues. Not sure what \"human-in-command\" specifically means in this context or how it differs from HITL, but humans act upon and may change the outputs of the model, so the approach, to the best of my knowledge, would be HITL. No conflicts of interest to report: trained specialists have no vested interest in the performance of the model one way or another, they operate on an hourly rate and not on a quota basis, for instance."
   ]
  },
  {
   "attachments": {},
   "cell_type": "markdown",
   "id": "14d6b7b2",
   "metadata": {
    "deletable": false,
    "editable": false
   },
   "source": [
    "***"
   ]
  },
  {
   "attachments": {},
   "cell_type": "markdown",
   "id": "cad12e98",
   "metadata": {
    "deletable": false,
    "editable": false
   },
   "source": [
    "## 3. Third Party Model Details <a class=\"anchor\" id=\"third_party\"></a>"
   ]
  },
  {
   "attachments": {},
   "cell_type": "markdown",
   "id": "2352c0af",
   "metadata": {
    "deletable": false,
    "editable": false
   },
   "source": [
    "**<ins>Note</ins>: This section is to be filled only in case of Third Party Models.**  \n",
    "\n",
    "| Responsibility | Timing (earliest) | Relevant Standard(s) |\n",
    "| --- | --- | --- |\n",
    "| Model Owner and/or Model Developer  | Model Development | Third Party Model Management Standard (available at [this](https://trten.sharepoint.com/sites/intr-data-model-governance/SitePages/Data-%26-Model-Governance-(DMG)-Policies-%26-Standards.aspx) Atrium site)|\n"
   ]
  },
  {
   "attachments": {},
   "cell_type": "markdown",
   "id": "a9264702",
   "metadata": {
    "deletable": false,
    "editable": false
   },
   "source": [
    "<div style=\"background-color:#EBEBEB\">\n",
    "\n",
    "<span style='background:orange'> **Rationale for Third Party Model Choice**   </span>  \n",
    "Rationale of using this Third Party Model to address the business purpose at TR. It should also include shortlisting, suitability, and selection criteria considered while finalizing this model / product / vendor for use at TR. When relevant, link to any external model documentation (including version(s) where possible).\n",
    "<div style=\"text-align: right; font-style:italic\"> (tag: thirdparty_rationale) </div>"
   ]
  },
  {
   "attachments": {},
   "cell_type": "markdown",
   "id": "59d8e24f",
   "metadata": {
    "tags": [
     "thirdparty_rationale"
    ]
   },
   "source": [
    "The model selected is part of an open repository of pre-trained models with sufficient documentation to be deemed appropriate. Documentation is available here: https://huggingface.co/cardiffnlp/twitter-xlm-roberta-base-sentiment. This model was selected after reviewing exisiting literaturen and because its fine tuning for several languages allows for future integration beyond English, without significant change to the pipeline."
   ]
  },
  {
   "attachments": {},
   "cell_type": "markdown",
   "id": "dfda42fd",
   "metadata": {
    "deletable": false,
    "editable": false
   },
   "source": [
    "<div style=\"background-color:#EBEBEB\">\n",
    "\n",
    "<span style='background:orange'> **Continued Model Suitability**   </span>  \n",
    "Include, but need not be limited to, the following:\n",
    "* Details of re-training exercises that will be carried out by vendors for model components relevant to TR's business usage\n",
    "* Communication process for changes in usage criteria specified by the vendor, or to model assumptions, limitations, configuration/parametrization, or other relevant areas\n",
    "* <ins>Note</ins>: For <span style='color:red'> High Risk Rating models</span> (as per Model Risk Assessment), the re-assessment is recommended to be conducted at least every year and must feed into the internal TR Model Review process, as laid out in the Model Validation Standard (available at [this](https://trten.sharepoint.com/sites/intr-data-model-governance/SitePages/Data-%26-Model-Governance-(DMG)-Policies-%26-Standards.aspx) Atrium site).\n",
    "<div style=\"text-align: right; font-style:italic\"> (tag: thirdparty_suitability) </div>"
   ]
  },
  {
   "attachments": {},
   "cell_type": "markdown",
   "id": "22f2de35",
   "metadata": {},
   "source": [
    "The model developer / maintainer is Cardiff University — they publish version updates and changes publicly. Should a new version of the model be deemed better suited, our team would upgrade as well. Alternatively, should the model no longer be maintaned / be decommisioned, or otherwise, the use of the model would be halted until a suitable replacement is identified."
   ]
  },
  {
   "attachments": {},
   "cell_type": "markdown",
   "id": "bc65899e",
   "metadata": {
    "deletable": false,
    "editable": false
   },
   "source": [
    "***"
   ]
  },
  {
   "attachments": {},
   "cell_type": "markdown",
   "id": "07baef40",
   "metadata": {
    "deletable": false,
    "editable": false
   },
   "source": [
    "## 4. Model Inputs <a class=\"anchor\" id=\"model_input\"></a>"
   ]
  },
  {
   "attachments": {},
   "cell_type": "markdown",
   "id": "8bbd824b",
   "metadata": {
    "deletable": false,
    "editable": false
   },
   "source": [
    "| Responsibility | Timing (earliest) | Relevant Standard(s) |\n",
    "| --- | --- | --- |\n",
    "| Model Developer(s)   | Data Acquisition and Preprocessing | Model Design and Development Standard; Model Security and Access Standard; Fairness Standard (available at [this](https://trten.sharepoint.com/sites/intr-data-model-governance/SitePages/Data-%26-Model-Governance-(DMG)-Policies-%26-Standards.aspx) Atrium site)|"
   ]
  },
  {
   "attachments": {},
   "cell_type": "markdown",
   "id": "380167f2",
   "metadata": {
    "deletable": false,
    "editable": false
   },
   "source": [
    "<div style=\"background-color:#EBEBEB\">\n",
    "\n",
    "<span style='background:orange'> **Data Source(s), Datasets and Attributes**   </span>   \n",
    "\n",
    "Describe the data source(s) used to develop and train the model, including but not limited to the following:\n",
    "*\tData description of all relevant datasets and attributes used as model inputs\n",
    "    *\tFor both the *Development* and *Live* version statuses\n",
    "    *\tShould include, but need not be limited to, dataset name, attributes, and ownership details (preferably by referencing relevant source files)\n",
    "*\tDetails of external and/or customer data\n",
    "*\tTime period(s) covered by the training data \n",
    "*\tAny differences between training data and data for intended use in production\n",
    "*\tIdentify and describe any proxies used (e.g., silver data)\n",
    "*\tInclude a summary of any PII or sensitive data/variables used in the development of the model.\n",
    "*\tWhere applicable, provide details of annotation tasks to collect data, including annotation guidelines and methods for quality control. Document any measures taken to prevent and/or mitigate bias in the labeling process.\n",
    "*\tPlease include links to data sources where available, along with directions to request access to the data where required\n",
    "<div style=\"text-align: right; font-style:italic\"> (tag: data_source) </div>\n"
   ]
  },
  {
   "cell_type": "code",
   "execution_count": null,
   "id": "3ef0db71",
   "metadata": {
    "tags": [
     "data_source"
    ]
   },
   "outputs": [],
   "source": [
    "Corpus includes over 100,000 tweets where TR products and services are mentioned. Data is filtered for recency, looking specifically at the last 8 months due to business priorities and budgetary limitations. Data consists of complete text-based tweets (str) accessed through Twitter API. No additional data is used programmatically, but trained specialists have access to support tickets should a specific ticket be mentioned in a tweet or reply. According to model developer (Cardiff Univesirty), model has been pretrained with 198M tweets from 2018 to 2020. More pre-training information here: https://arxiv.org/pdf/2104.12250.pdf. It is uncertain whether PII is used, as some may be included in a customer's tweet. No redaction service is used at this point. Data is available in the project's S3 Bucket [URL]."
   ]
  },
  {
   "attachments": {},
   "cell_type": "markdown",
   "id": "0564ea66",
   "metadata": {
    "deletable": false,
    "editable": false
   },
   "source": [
    "<div style=\"background-color:#EBEBEB\">\n",
    "\n",
    "<span style='background:orange'> **Data Analysis**  </span>   \n",
    "\n",
    "Please include details of:\n",
    "*\tData Quality (missing values, duplicates)\n",
    "*\tDescriptive statistics of data\n",
    "*\tDetails of data completeness and accuracy, limitations, availability, and any assumptions  \n",
    "\n",
    "Preferably reference to relevant source files. If large files are referenced, then please add an indicator to the location in the file where the relevant information is available. For example, for ipynb notebook include the section title(s) or cell number(s).\n",
    "<div style=\"text-align: right; font-style:italic\"> (tag: data_analysis) </div>"
   ]
  },
  {
   "cell_type": "code",
   "execution_count": null,
   "id": "94eb9f65",
   "metadata": {
    "tags": [
     "data_analysis"
    ]
   },
   "outputs": [],
   "source": [
    "Data is available in the project's S3 Bucket [URL]. Data quality metrics and descriptive statistics are collected weekly, when new data is pulled. Refer to project repo for additional details: [https://github.com/LorenaAlmarazTR/twitter_sentiment_analysis]"
   ]
  },
  {
   "attachments": {},
   "cell_type": "markdown",
   "id": "6470771d",
   "metadata": {
    "deletable": false,
    "editable": false
   },
   "source": [
    "<div style=\"background-color:#EBEBEB\">\n",
    "\n",
    "<span style='background:orange'> **Data Pre-Processing** </span>  \n",
    "Please describe details of pre-processing steps and steps taken to address data quality (if any). Please include the location of final data files, after pre-processing, along with directions to request access to the data where required.  \n",
    "<div style=\"text-align: right; font-style:italic\"> (tag: data_preprocessing) </div>"
   ]
  },
  {
   "cell_type": "code",
   "execution_count": null,
   "id": "06c5d5d7",
   "metadata": {
    "tags": [
     "data_preprocessing"
    ]
   },
   "outputs": [],
   "source": [
    "Minimal data pre-processing is done for this model. Non-English language tweets are removed. Refer to 'pre-processing_script' in the project repo: https://github.com/LorenaAlmarazTR/twitter_sentiment_analysis"
   ]
  },
  {
   "attachments": {},
   "cell_type": "markdown",
   "id": "860ec256",
   "metadata": {
    "deletable": false,
    "editable": false
   },
   "source": [
    "<div style=\"background-color:#EBEBEB\">\n",
    "\n",
    "<span style='background:orange'> **Fairness Considerations** </span>  \n",
    "\n",
    "Include, but need not be limited to, the following:\n",
    "\n",
    "*   If the data source(s) used to train the model contains personal data, please provide documentation on relevant population subgroups for your use case. Where appropriate, identify potentially underrepresented and/or protected classes of people (For example, by gender, race, age, ethnicity). \n",
    "*   Provide evidence on steps taken to identify and mitigate bias in your training data or provide a brief justification on why your model does not require an in-depth analysis for potential biases. \n",
    "\n",
    "*Definitions:*\n",
    "-\t**Data and AI Fairness** refers to the assurance that individuals and groups of people are not harmed through unjust bias or unlawful discrimination that may result from practices of data and model management and innovation, based on a person's inherent and/or acquired characteristics.\n",
    "-\t**Personal Data** refers to any information which identifies or relates to an identified or identifiable person or household. Personal Data may be referred to as Personal Information, Personally Identifiable Information, Non-Public Personal Information, or similar terms. For the purposes of the Thomson Reuters Privacy Policy, all terms relating to data elements which identify or relate to a unique human being will be Personal Data. Examples of Personal Data include name, email address, phone number, IP address, and household data.\n",
    "\n",
    "<div style=\"text-align: right; font-style:italic\"> (tag: fairness_inputs) </div>"
   ]
  },
  {
   "attachments": {},
   "cell_type": "markdown",
   "id": "e4ad2f3c",
   "metadata": {
    "tags": [
     "fairness_inputs"
    ]
   },
   "source": [
    "No specific steps have been taken to mitigate bias. Anyone who uses Twitter and has mentioned a TR product or service is our population of interest. "
   ]
  },
  {
   "attachments": {},
   "cell_type": "markdown",
   "id": "d281d15e",
   "metadata": {
    "deletable": false,
    "editable": false
   },
   "source": [
    "***"
   ]
  },
  {
   "attachments": {},
   "cell_type": "markdown",
   "id": "c3853184",
   "metadata": {
    "deletable": false,
    "editable": false
   },
   "source": [
    "## 5. Model Design and Conceptual Soundness \n",
    "<a class=\"anchor\" id=\"model_design\"></a>"
   ]
  },
  {
   "attachments": {},
   "cell_type": "markdown",
   "id": "ca4cdf69",
   "metadata": {
    "deletable": false,
    "editable": false
   },
   "source": [
    "| Responsibility | Timing (earliest) | Relevant Standard(s) |\n",
    "| --- | --- | --- |\n",
    "| Model Developer(s) | Model Development | Model Design and Development Standard; Model Security and Access Standard; Automated Decision-Making Standard; Transparency Standard; Ethics by Design Standard (available at this [this](https://trten.sharepoint.com/sites/intr-data-model-governance/SitePages/Data-%26-Model-Governance-(DMG)-Policies-%26-Standards.aspx) Atrium site)|"
   ]
  },
  {
   "attachments": {},
   "cell_type": "markdown",
   "id": "621ad31f",
   "metadata": {
    "deletable": false,
    "editable": false
   },
   "source": [
    "<div style=\"background-color:#EBEBEB\">\n",
    "\n",
    "<span style='background:orange'> **Model Design Summary and Methodology Selection Details**  </span>  \n",
    "\n",
    "Please describe the development approach taken to address the business problem. \n",
    "*\tProvide a description of the model structure, parameters, hyperparameters and methodology used.\n",
    "*\tSelection of the algorithm and how the model is trained (i.e., modelling approach)\n",
    "*\tSelection of inputs/features and feature engineering/transformation process (if applicable)\n",
    "*\tModel assumptions (if applicable), and/or business assumptions\n",
    "*\tChoice of target variables (is the target representing business intent directly or is it a proxy?) \n",
    "*\tWhere relevant, please provide details of all upstream and downstream dependencies on each of the component models\n",
    "*\tFor <span style='color:red'> High Risk Rating models</span>, please include:\n",
    "    *\tDetails of any other methodologies that were considered, and rationale for not selecting those\n",
    "<div style=\"text-align: right; font-style:italic\"> (tag: model_design) </div>"
   ]
  },
  {
   "cell_type": "code",
   "execution_count": null,
   "id": "d2903fc3",
   "metadata": {
    "tags": [
     "model_design"
    ]
   },
   "outputs": [],
   "source": [
    "This information is contained in the following in detail:\n",
    "Model card: https://huggingface.co/cardiffnlp/twitter-xlm-roberta-base-sentiment\n",
    "Academic paper: https://arxiv.org/pdf/2104.12250.pdf\n",
    "Additional files: https://huggingface.co/cardiffnlp/twitter-xlm-roberta-base-sentiment/tree/main"
   ]
  },
  {
   "attachments": {},
   "cell_type": "markdown",
   "id": "f2f65c34",
   "metadata": {
    "deletable": false,
    "editable": false
   },
   "source": [
    "<div style=\"background-color:#EBEBEB\">\n",
    "\n",
    "<span style='background:orange'> **Peer Review Details, Supporting Academic Literature and Industry Practices**  </span>  \n",
    "Please provide rationale supporting the choice of methodology/algorithm, and details where possible, of peer review, published research and sound industry practice.  \n",
    "<div style=\"text-align: right; font-style:italic\"> (tag: review_literature) </div>"
   ]
  },
  {
   "cell_type": "code",
   "execution_count": null,
   "id": "485cb86f",
   "metadata": {
    "tags": [
     "review_literature"
    ]
   },
   "outputs": [],
   "source": [
    "Refer to answer to 3.1 above. "
   ]
  },
  {
   "attachments": {},
   "cell_type": "markdown",
   "id": "489be028",
   "metadata": {
    "deletable": false,
    "editable": false
   },
   "source": [
    "<div style=\"background-color:#EBEBEB\">\n",
    "\n",
    "<span style='background:orange'> **Automated Decision-Making Considerations** </span>  \n",
    "\n",
    "*   If the model is included in an automated decision-making system, are end-users being made aware of its role in decision making? Please include evidence of the approach and process to ensure end-user awareness.\n",
    "\n",
    "*Definition:* \n",
    "*   **Automated Decision Making (ADM) Systems** are technical systems make decisions by automated means without any human involvement.\n",
    "\n",
    "<div style=\"text-align: right; font-style:italic\"> (tag: adm) </div>"
   ]
  },
  {
   "attachments": {},
   "cell_type": "markdown",
   "id": "6bd2839e",
   "metadata": {
    "tags": [
     "adm"
    ]
   },
   "source": [
    "The model is not used in an automated decision-making system."
   ]
  },
  {
   "attachments": {},
   "cell_type": "markdown",
   "id": "fd0acc37",
   "metadata": {
    "deletable": false,
    "editable": false
   },
   "source": [
    "<div style=\"background-color:#EBEBEB\">\n",
    "\n",
    "<span style='background:orange'> **Model Transparency Considerations** </span>  \n",
    "\n",
    "Include, but need not be limited to, the following:\n",
    "\n",
    "*   Are the intended end-users of your model (or the system it is embedded in) *untrained individuals*, who have received no standardized training (For example through tutorials, training modules or written documentation) on using the model's output? If yes, please provide evidence of how you are supporting end-users’ understanding of the model and its outputs. \n",
    "\n",
    "*Definitions:*\n",
    "-\t**Model Transparency** ensures that the information about a model and the data it is trained on is accessible to end users and third parties where/when necessary.\n",
    "-\t**Model Interpretability** is the inherent property of a model which indicates how easily its behavior and outputs can be understood by humans.\n",
    "-\t**AI Explainability** are techniques, algorithms, and methods that support those developing, or impacted by, the model’s outputs with an understanding of how the results came about. An approximation of a model’s output that provides human understandable information and transparency into what is going on throughout the development lifecycle of a given model.\n",
    "\n",
    "<div style=\"text-align: right; font-style:italic\"> (tag: transparency_design) </div>"
   ]
  },
  {
   "attachments": {},
   "cell_type": "markdown",
   "id": "cf580796",
   "metadata": {
    "tags": [
     "transparency_design"
    ]
   },
   "source": [
    "Refer to answer 3.3 above. End users are trained specialists who are instructed to use the model outputs as part of the tools they use to prioritize and identify customer issues. They are made aware of the model's intended use and limitations through 2 hour training sessions and access to the relevant documentation."
   ]
  },
  {
   "attachments": {},
   "cell_type": "markdown",
   "id": "aa571ba8",
   "metadata": {
    "deletable": false,
    "editable": false
   },
   "source": [
    "<div style=\"background-color:#EBEBEB\">\n",
    "\n",
    "<span style='background:orange'> **Sustainability Considerations** </span>  \n",
    "Provide evidence of how you ensured that only the necessary resources, including computing resources, energy, and materials, were used in the model lifecycle. \n",
    "<div style=\"text-align: right; font-style:italic\"> (tag: sustainability) </div>"
   ]
  },
  {
   "attachments": {},
   "cell_type": "markdown",
   "id": "7dc762c1",
   "metadata": {
    "tags": [
     "sustainability"
    ]
   },
   "source": [
    "We did not ensure only the necessary resources are used. At this point, unfortunately, we have no idea of the amount of compute, energy, and materials that are used in the model lifecycle — nor do we have the budget to conduct this research."
   ]
  },
  {
   "attachments": {},
   "cell_type": "markdown",
   "id": "9e6380f2",
   "metadata": {
    "deletable": false,
    "editable": false
   },
   "source": [
    "***"
   ]
  },
  {
   "attachments": {},
   "cell_type": "markdown",
   "id": "b64d9ae5",
   "metadata": {
    "deletable": false,
    "editable": false
   },
   "source": [
    "## 6. Model Development \n",
    "<a class=\"anchor\" id=\"model_train\"></a>"
   ]
  },
  {
   "attachments": {},
   "cell_type": "markdown",
   "id": "64fb3ab9",
   "metadata": {
    "deletable": false,
    "editable": false
   },
   "source": [
    "| Responsibility | Timing (earliest) | Relevant Standard(s) |\n",
    "| --- | --- | --- |\n",
    "| Model Developer(s) in conjunction with the Model Owner or delegate responsible for completing the DIA  | Model Development | Model Design and Development Standard; Model Security and Access Standard; Model Monitoring Standard|"
   ]
  },
  {
   "attachments": {},
   "cell_type": "markdown",
   "id": "4774c364",
   "metadata": {
    "deletable": false,
    "editable": false
   },
   "source": [
    "<div style=\"background-color:#EBEBEB\">\n",
    "\n",
    "<span style='background:orange'> **Model Training and Testing Approach**  </span>   \n",
    "\n",
    "Please provide details of testing results highlighting where the results are acceptable and meet business expectations. These could include the following:\n",
    "*\tModel performance testing approach\n",
    "*   Train/test split details\n",
    "*\tStability and robustness analysis (e.g., model behavior on edge cases) \n",
    "*\tBenchmarking / challenger models i.e., comparison with alternative models (strong baselines or significant methods explored during development)\n",
    "*\tDescription of the model output. Please also include details on explainability, i.e.  in simple layman terms, how the model reached its conclusion/decision from the input data. Model feature importance, if relevant.\n",
    "<div style=\"text-align: right; font-style:italic\"> (tag: model_traintest) </div>\n",
    "\n"
   ]
  },
  {
   "cell_type": "code",
   "execution_count": null,
   "id": "1a3e2f24",
   "metadata": {
    "tags": [
     "model_traintest"
    ]
   },
   "outputs": [],
   "source": [
    "All testing related details can be found in 'testing_script' in the project repo: https://github.com/LorenaAlmarazTR/twitter_sentiment_analysis"
   ]
  },
  {
   "attachments": {},
   "cell_type": "markdown",
   "id": "cca9ad06",
   "metadata": {
    "deletable": false,
    "editable": false
   },
   "source": [
    "<div style=\"background-color:#EBEBEB\">\n",
    "\n",
    "<span style='background:orange'>**Development Platform and Environments**  </span>   \n",
    "\n",
    "Please provide development environment details including the following:\n",
    "*\tPlatform used for development (e.g., Enterprise AI Platform, Workspace/S3 name & links) \n",
    "*\tWhere required please provide details of how access may be requested, along with eligibility for access to the above environments\n",
    "*\tPlease include the list of packages and microservices, along with the versions, used during model development, training, testing and any related tasks. Alternately, should this information be available in model source files, please provide the location and name and link to the same. Please include, where relevant, your requirements.txt file link here.\n",
    "<div style=\"text-align: right; font-style:italic\"> (tag: dev_platform) </div>"
   ]
  },
  {
   "cell_type": "code",
   "execution_count": null,
   "id": "4d001f8b",
   "metadata": {
    "tags": [
     "dev_platform"
    ]
   },
   "outputs": [],
   "source": [
    "Development takes place in the AI Platform, as indicated in the Model Registry. Access is restricted to customer success representatives and may be requested by emailing me. For information on packages used, refer to answer 5.1 above, which includes additional files (including pre-trained model source file) and the project repo: https://github.com/LorenaAlmarazTR/twitter_sentiment_analysis."
   ]
  },
  {
   "attachments": {},
   "cell_type": "markdown",
   "id": "e644c303",
   "metadata": {
    "deletable": false,
    "editable": false
   },
   "source": [
    "<div style=\"background-color:#EBEBEB\">\n",
    "\n",
    "<span style='background:orange'> **Business Overrides and Impact**</span>   \n",
    "Where relevant, please provide details of scenarios where business overrides will be used in place of model inferences and results.\n",
    "\n",
    "<ins>Example from TR Labs</ins>: TR Labs developed a model for selecting the most appropriate headnote (editorial summary) to display for cases (documents) in a search result list. Based on the model output and additional information about the case, the application (based on business rules) may change / override model decision, for instance display the second summary instead of the first one.  \n",
    "<div style=\"text-align: right; font-style:italic\"> (tag: business_overrides) </div>"
   ]
  },
  {
   "cell_type": "code",
   "execution_count": null,
   "id": "cac8de73",
   "metadata": {
    "tags": [
     "business_overrides"
    ]
   },
   "outputs": [],
   "source": [
    "The judgement of the trained specialists may override any or all model outputs. The model provides a score for positive, neutral, and negative language but does not understand language nor context, therefore, should specialists disagree with the model's outputs, they may disregard the outputs altogether. Similarly, should the outputs contradict other sources of primary customer success data (including call logs, survey feedback, etc), the model outputs should be disregarded."
   ]
  },
  {
   "attachments": {},
   "cell_type": "markdown",
   "id": "a3bdd4dc",
   "metadata": {
    "deletable": false,
    "editable": false
   },
   "source": [
    "***"
   ]
  },
  {
   "attachments": {},
   "cell_type": "markdown",
   "id": "41713fc1",
   "metadata": {
    "deletable": false,
    "editable": false
   },
   "source": [
    "## 7. Model Deployment \n",
    "<a class=\"anchor\" id=\"model_deploy\"></a>"
   ]
  },
  {
   "attachments": {},
   "cell_type": "markdown",
   "id": "daa56546",
   "metadata": {
    "deletable": false,
    "editable": false
   },
   "source": [
    "| Responsibility | Timing (earliest) | Relevant Standard(s) |\n",
    "| --- | --- | --- |\n",
    "| Model Developer primarily, with input from the MLOps/Engineering team   | Model Development (after evaluation) | Model Implementation Standard (available at [this](https://trten.sharepoint.com/sites/intr-data-model-governance/SitePages/Data-%26-Model-Governance-(DMG)-Policies-%26-Standards.aspx) Atrium site)|"
   ]
  },
  {
   "attachments": {},
   "cell_type": "markdown",
   "id": "f7709675",
   "metadata": {
    "deletable": false,
    "editable": false
   },
   "source": [
    "<div style=\"background-color:#EBEBEB\">\n",
    "\n",
    "<span style='background:orange'> **Model Deployment Environment and Process Summary**</span>   \n",
    "\n",
    "Please describe the approach for deployment, including the following: \n",
    "*\tDetails of integration into the larger application or process, including high level system architecture where relevant\n",
    "*\tHow and when the model will be implemented into the production environment (timelines). \n",
    "*\tInfrastructure (technology stack, resources, systems, processes, access controls). If possible, diagrammatic representations showing how the model interacts with other components.\n",
    "*   Application/platform integration details and rationale for choices.\n",
    "*   Pre-deployment testing details, if available.\n",
    "*\tDetails of post-deployment and production support contacts, including SLAs where available.\n",
    "*\tFor <span style='color:red'> High Risk Rating models</span>, please include:\n",
    "    *\tRationale for implementation choices\n",
    "    *\tOverview of Change Management procedure for updates to model configuration, environment etc. (e.g., Responsible team and contacts, link to procedures etc.)\n",
    "    *\tDetails of pre-deployment testing, or a summary of unit/system/integration testing results (or a link to the same)\n",
    "<div style=\"text-align: right; font-style:italic\"> (tag: model_deployment) </div>"
   ]
  },
  {
   "cell_type": "code",
   "execution_count": null,
   "id": "441e45fe",
   "metadata": {
    "tags": [
     "model_deployment"
    ]
   },
   "outputs": [],
   "source": [
    "A custom dashboard that integrates several sources of reported issues allows the customer service team to keep track of emerging issues with specific products and services. This model is already live, meaning, information from this model is already used in the dashboard to identify emerging issues. Model is deployed through AI Platform, as indicated in the Model Registry. The workspace is available here: [URL]. For post deployment information / support, address lorena.almaraz@thomsonreuters.com."
   ]
  },
  {
   "attachments": {},
   "cell_type": "markdown",
   "id": "0acbbc88",
   "metadata": {
    "deletable": false,
    "editable": false
   },
   "source": [
    "***"
   ]
  },
  {
   "attachments": {},
   "cell_type": "markdown",
   "id": "2a11ae58",
   "metadata": {
    "deletable": false,
    "editable": false
   },
   "source": [
    "## 8. Model Monitoring Plan\n",
    "<a class=\"anchor\" id=\"model_monitor_plan\"></a>"
   ]
  },
  {
   "attachments": {},
   "cell_type": "markdown",
   "id": "6f304c1d",
   "metadata": {
    "deletable": false,
    "editable": false
   },
   "source": [
    "| Responsibility | Timing (earliest) | Relevant Standard |\n",
    "| --- | --- | --- |\n",
    "| Model Developers, in conjunction with the Model Owner and Model Usage Contact(s)   | Model Development (after evaluation) | Model Monitoring Standard (available at [this](https://trten.sharepoint.com/sites/intr-data-model-governance/SitePages/Data-%26-Model-Governance-(DMG)-Policies-%26-Standards.aspx) Atrium site)|"
   ]
  },
  {
   "attachments": {},
   "cell_type": "markdown",
   "id": "8d9b24e5",
   "metadata": {
    "deletable": false,
    "editable": false
   },
   "source": [
    "<div style=\"background-color:#EBEBEB\">\n",
    "\n",
    "<span style='background:orange'>**Model Monitoring Plan**</span>   \n",
    "\n",
    "We consider 3 possible types of drift and corresponding monitoring. \n",
    "1. >concept drift: measures related to model performance (accuracy, f1, etc.)\n",
    "2. >data drift: measures related to statistical properties of the data used (mean-variance specific input, percentage of nulls, etc.)\n",
    "3. >bias drift: measures related to bias (class imbalance, etc.)\n",
    "\n",
    "You can have a [Model Monitoring Plan](https://trten.sharepoint.com/sites/intr-data-model-governance/SiteAssets/Forms/AllItems.aspx?id=%2Fsites%2Fintr%2Ddata%2Dmodel%2Dgovernance%2FSiteAssets%2FSitePages%2Fnews%2DModel%2DGovernance%2DTraining%2DProgram%2DOverview%2FCheatSheet%2D%2D%2DModel%2DMonitoring%2DPlan%2Epdf&parent=%2Fsites%2Fintr%2Ddata%2Dmodel%2Dgovernance%2FSiteAssets%2FSitePages%2Fnews%2DModel%2DGovernance%2DTraining%2DProgram%2DOverview) for one or more of these 3 types of drift. For each of them a Model Monitoring Plan is considered complete when the following three files are filled:\n",
    "\n",
    "*\t>dmg_documentation_template > monitoring_files > constraints.json\n",
    "*\t>dmg_documentation_template > monitoring_files > baselines.json\n",
    "*\t>dmg_documentation_template > monitoring_files > alert.json\n",
    "\n",
    "Refer to this [Monitoring Plan Help Guide](https://trten.sharepoint.com/:b:/r/sites/intr-data-model-governance/SiteAssets/SitePages/Model-Stewardship/monitoring_plan_user_manual.pdf?csf=1&web=1&e=yy5D2I) for details on these files.\n",
    "\n",
    "Once you created these files, you can upload them in the corresponding fields in the [Model Registry](https://contentconsole.thomsonreuters.com/machine-learning/registry/models) (\"Image and Artefacts\" tab).\n",
    "\n",
    "If you wish, you can use this section of the documentation to add any additional information around model monitoring you believe is important.\n",
    "<div style=\"text-align: right; font-style:italic\"> (tag: monitoring_extra) </div>"
   ]
  },
  {
   "attachments": {},
   "cell_type": "markdown",
   "id": "ef8c46b8",
   "metadata": {
    "tags": [
     "monitoring_extra"
    ]
   },
   "source": []
  },
  {
   "attachments": {},
   "cell_type": "markdown",
   "id": "0a3c003a",
   "metadata": {
    "deletable": false,
    "editable": false
   },
   "source": [
    "***"
   ]
  },
  {
   "attachments": {},
   "cell_type": "markdown",
   "id": "0eeaf078",
   "metadata": {
    "deletable": false,
    "editable": false
   },
   "source": [
    "## 9. Appendix <a class=\"anchor\" id=\"appendix\"></a>"
   ]
  },
  {
   "attachments": {},
   "cell_type": "markdown",
   "id": "3fb98857",
   "metadata": {
    "deletable": false,
    "editable": false
   },
   "source": [
    "<div style=\"background-color:#EBEBEB\">\n",
    "Please include any additional information in this section.\n",
    "<div style=\"text-align: right; font-style:italic\"> (tag: appendix) </div>"
   ]
  },
  {
   "cell_type": "code",
   "execution_count": null,
   "id": "95d04b5f",
   "metadata": {
    "tags": [
     "appendix"
    ]
   },
   "outputs": [],
   "source": []
  },
  {
   "cell_type": "code",
   "execution_count": null,
   "id": "1fd6b789",
   "metadata": {
    "tags": [
     "appendix"
    ]
   },
   "outputs": [],
   "source": []
  }
 ],
 "metadata": {
  "kernelspec": {
   "display_name": "Python 3.9.6 64-bit",
   "language": "python",
   "name": "python3"
  },
  "language_info": {
   "codemirror_mode": {
    "name": "ipython",
    "version": 3
   },
   "file_extension": ".py",
   "mimetype": "text/x-python",
   "name": "python",
   "nbconvert_exporter": "python",
   "pygments_lexer": "ipython3",
   "version": "3.9.6 (default, Aug  5 2022, 15:21:02) \n[Clang 14.0.0 (clang-1400.0.29.102)]"
  },
  "vscode": {
   "interpreter": {
    "hash": "31f2aee4e71d21fbe5cf8b01ff0e069b9275f58929596ceb00d14d90e3e16cd6"
   }
  }
 },
 "nbformat": 4,
 "nbformat_minor": 5
}
